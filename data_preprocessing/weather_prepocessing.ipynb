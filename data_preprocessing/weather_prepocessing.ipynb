{
 "cells": [
  {
   "cell_type": "markdown",
   "metadata": {},
   "source": [
    "# Weather Dataset Preprocessing\n",
    "\n",
    "A dataset that has a collection of weather observations from the city of Aarhus, spanning from Feb through Sept in 2014 excluding July. "
   ]
  },
  {
   "cell_type": "code",
   "execution_count": 1,
   "metadata": {},
   "outputs": [],
   "source": [
    "import tarfile\n",
    "import pandas as pd\n",
    "import os\n",
    "import json\n",
    "from pathlib import Path\n",
    "import matplotlib.pyplot as plt\n",
    "import zipfile"
   ]
  },
  {
   "cell_type": "code",
   "execution_count": 2,
   "metadata": {},
   "outputs": [
    {
     "name": "stdout",
     "output_type": "stream",
     "text": [
      "['../data/raw_weather_data_aarhus.tar.gz', '../data/raw_weather_data_aug_sep_2014.zip']\n"
     ]
    }
   ],
   "source": [
    "# get weather data files (zip and tar.gz)\n",
    "file_list = []\n",
    "for root, dirs, files in os.walk('../data'):\n",
    "    files.sort()\n",
    "    for file in files:\n",
    "        if 'raw_weather' in file.lower():  # Search for the string 'weather' (case insensitive)\n",
    "            file_list.append(os.path.join(root, file))\n",
    "\n",
    "print(file_list)"
   ]
  },
  {
   "cell_type": "code",
   "execution_count": 3,
   "metadata": {},
   "outputs": [
    {
     "name": "stdout",
     "output_type": "stream",
     "text": [
      "                    dewptm pressurem wdird tempm  vism wspdm hum\n",
      "Datetime                                                        \n",
      "2014-02-13 06:20:00    2.0       989   170   3.0  10.0  16.7  93\n",
      "2014-02-13 13:50:00    1.0       989   200   7.0  10.0  14.8  66\n",
      "2014-02-13 06:00:00      1       990   170     2    11  13.0  91\n",
      "2014-02-13 03:00:00      1       992   150     3     8  20.4  84\n",
      "2014-02-13 13:00:00      1       990   190     6    24  20.4  62\n",
      "...                    ...       ...   ...   ...   ...   ...  ..\n",
      "2014-06-08 18:00:00     13      1020   170    20    35   7.4  54\n",
      "2014-06-08 09:00:00     11      1020   170    18    45  11.1  52\n",
      "2014-06-08 09:20:00   11.0      1019   160  18.0  10.0   9.3  64\n",
      "2014-06-08 09:50:00   12.0      1019   120  19.0  10.0   7.4  64\n",
      "2014-06-08 05:20:00    9.0      1018   180  12.0  10.0   3.7  82\n",
      "\n",
      "[8222 rows x 7 columns]\n"
     ]
    }
   ],
   "source": [
    "weather_data1 = []\n",
    "if file_list[0].endswith('.tar.gz'):\n",
    "    with tarfile.open(file_list[0], 'r:gz') as tar:\n",
    "        variables = tar.getnames() # saves the names of the files within the tar.gz\n",
    "\n",
    "        all_data = []\n",
    "\n",
    "        for variable in variables:\n",
    "            extracted_file = tar.extractfile(variable)\n",
    "            file_content = extracted_file.read().decode('utf-8')\n",
    "\n",
    "            # Split content into multiple JSON objects (each file line is a json object)\n",
    "            json_objects = file_content.strip().split('\\n')\n",
    "\n",
    "            variable_name = Path(variable).stem\n",
    "            variable_data = []\n",
    "\n",
    "            for obj in json_objects:\n",
    "                # Parse each JSON object and convert it to a dataframe\n",
    "                data_dict = json.loads(obj)\n",
    "                df = pd.DataFrame(list(data_dict.items()), columns=['Datetime', variable_name])\n",
    "                \n",
    "                # Convert the Datetime column to a pandas datetime format and use it as the index\n",
    "                df['Datetime'] = pd.to_datetime(df['Datetime'])\n",
    "                df.set_index('Datetime', inplace=True)\n",
    "                \n",
    "                # Append each line to the variable dataframe\n",
    "                variable_data.append(df)\n",
    "            variable_final = pd.concat(variable_data)\n",
    "            all_data.append(variable_final)\n",
    "        \n",
    "        # did outer joint to keep all indicies and fill NaN values for missing data\n",
    "        weather_data1 = pd.concat(all_data, axis=1, join='outer')\n",
    "        \n",
    "print(weather_data1)"
   ]
  },
  {
   "cell_type": "code",
   "execution_count": 4,
   "metadata": {},
   "outputs": [
    {
     "name": "stdout",
     "output_type": "stream",
     "text": [
      "['dewptm.txt', '__MACOSX/', '__MACOSX/._dewptm.txt', 'hum.txt', '__MACOSX/._hum.txt', 'pressurem.txt', '__MACOSX/._pressurem.txt', 'tempm.txt', '__MACOSX/._tempm.txt', 'wdird.txt', '__MACOSX/._wdird.txt', 'wspdm.txt', '__MACOSX/._wspdm.txt']\n",
      "                    dewptm hum pressurem tempm wdird wspdm\n",
      "Datetime                                                  \n",
      "2014-08-01 01:00:00     13  64      1012    18   210   7.4\n",
      "2014-08-01 13:00:00     15  53      1013    22   180  11.1\n",
      "2014-08-01 01:20:00   13.0  73      1012  18.0   210   7.4\n",
      "2014-08-01 13:20:00   13.0  57      1013  22.0   180  14.8\n",
      "2014-08-01 13:50:00   12.0  47      1013  24.0   170  14.8\n",
      "...                    ...  ..       ...   ...   ...   ...\n",
      "2014-09-30 18:00:00      9  63      1025    14   100   9.3\n",
      "2014-09-30 04:00:00     11  84      1024    13   100   5.6\n",
      "2014-09-30 03:20:00   12.0  88      1023  14.0   100   3.7\n",
      "2014-09-30 04:20:00   12.0  88      1023  14.0    80   7.4\n",
      "2014-09-30 18:20:00    9.0  72      1025  14.0   100  11.1\n",
      "\n",
      "[4357 rows x 6 columns]\n"
     ]
    }
   ],
   "source": [
    "weather_data2 = []\n",
    "\n",
    "# Check if the file is a zip file\n",
    "if file_list[1].endswith('.zip'):\n",
    "    with zipfile.ZipFile(file_list[1], 'r') as zip_ref:\n",
    "        # Get the list of files in the zip archive\n",
    "        variables = [file for file in zip_ref.namelist() if file.endswith('.txt') and not file.startswith('__MACOSX')]\n",
    "        print(zip_ref.namelist())\n",
    "        all_data = []\n",
    "\n",
    "        for variable in variables:\n",
    "            # Extract the file content from the zip file\n",
    "            with zip_ref.open(variable) as extracted_file:\n",
    "                file_content = extracted_file.read().decode('utf-8')\n",
    "\n",
    "                # Split content into multiple JSON objects (each line is a JSON object)\n",
    "                json_objects = file_content.strip().split('\\n')\n",
    "\n",
    "                # Use the file name (without extension) as the variable name\n",
    "                variable_name = Path(variable).stem\n",
    "                variable_data = []\n",
    "\n",
    "                for obj in json_objects:\n",
    "                    # Parse each JSON object and convert it into a DataFrame\n",
    "                    data_dict = json.loads(obj)\n",
    "                    df = pd.DataFrame(list(data_dict.items()), columns=['Datetime', variable_name])\n",
    "                    \n",
    "                    # Convert the 'Datetime' column to pandas datetime format and set it as the index\n",
    "                    df['Datetime'] = pd.to_datetime(df['Datetime'])\n",
    "                    df.set_index('Datetime', inplace=True)\n",
    "                    \n",
    "                    # Append each DataFrame to the list of variable data\n",
    "                    variable_data.append(df)\n",
    "                \n",
    "                # Concatenate the DataFrames for this variable\n",
    "                variable_final = pd.concat(variable_data)\n",
    "                all_data.append(variable_final)\n",
    "\n",
    "        # Concatenate all DataFrames with an outer join to match indices (Datetime)\n",
    "        weather_data2 = pd.concat(all_data, axis=1, join='outer')\n",
    "        \n",
    "# Print the final combined DataFrame\n",
    "print(weather_data2)"
   ]
  },
  {
   "cell_type": "code",
   "execution_count": 5,
   "metadata": {},
   "outputs": [
    {
     "name": "stdout",
     "output_type": "stream",
     "text": [
      "             dewptm     pressurem         wdird         tempm          vism  \\\n",
      "count  16414.000000  16406.000000  16292.000000  16414.000000  16414.000000   \n",
      "mean       4.229073   1013.638059    182.431868      9.061167   -390.753741   \n",
      "std        3.979251      9.515187     89.643936      4.830463   1969.810615   \n",
      "min       -9.000000    986.000000      0.000000     -3.000000  -9999.000000   \n",
      "25%        2.000000   1007.000000    110.000000      5.000000      8.000000   \n",
      "50%        3.000000   1014.000000    190.000000      8.000000     10.000000   \n",
      "75%        7.000000   1020.000000    260.000000     12.000000     10.000000   \n",
      "max       15.000000   1038.000000    360.000000     25.000000     50.000000   \n",
      "\n",
      "              wspdm           hum  \n",
      "count  16350.000000  16414.000000  \n",
      "mean      11.953700     71.157914  \n",
      "std      111.063418     16.131804  \n",
      "min    -9999.000000     12.000000  \n",
      "25%        7.400000     61.000000  \n",
      "50%       11.100000     75.000000  \n",
      "75%       18.500000     84.000000  \n",
      "max       64.800000    100.000000  \n"
     ]
    }
   ],
   "source": [
    "# Saving data for EDA\n",
    "concat_df = pd.concat([weather_data1,weather_data1])\n",
    "numeric_cols = ['dewptm', 'pressurem', 'wdird', 'tempm', 'vism', 'wspdm', 'hum']\n",
    "for col in numeric_cols:\n",
    "    concat_df[col] = pd.to_numeric(concat_df[col],  errors=\"coerce\")\n",
    "\n",
    "print(concat_df.describe())"
   ]
  },
  {
   "cell_type": "code",
   "execution_count": 6,
   "metadata": {},
   "outputs": [
    {
     "data": {
      "image/png": "[encoded data removed]",
      "text/plain": [
       "<Figure size 1000x500 with 1 Axes>"
      ]
     },
     "metadata": {},
     "output_type": "display_data"
    }
   ],
   "source": [
    "#identifying outliers\n",
    "concat_df.boxplot(column=numeric_cols, figsize=(10,5))\n",
    "plt.show()"
   ]
  },
  {
   "cell_type": "code",
   "execution_count": 7,
   "metadata": {},
   "outputs": [
    {
     "name": "stdout",
     "output_type": "stream",
     "text": [
      "vism     10.0\n",
      "wspdm    11.1\n",
      "dtype: float64\n"
     ]
    },
    {
     "data": {
      "image/png": "[encoded data removed]",
      "text/plain": [
       "<Figure size 1000x300 with 1 Axes>"
      ]
     },
     "metadata": {},
     "output_type": "display_data"
    }
   ],
   "source": [
    "# Removing vism and wspdm Outliers\n",
    "cols = ['vism', 'wspdm']\n",
    "median_values = concat_df[cols].median()\n",
    "print(median_values)\n",
    "bad_reading = -9990\n",
    "concat_df.loc[concat_df['vism'] < -9990] = median_values['vism']\n",
    "concat_df.loc[concat_df['wspdm'] < -9990] = median_values['wspdm']\n",
    "\n",
    "concat_df.boxplot(column=numeric_cols, figsize=(10,3))\n",
    "plt.show()"
   ]
  },
  {
   "cell_type": "code",
   "execution_count": 8,
   "metadata": {},
   "outputs": [],
   "source": [
    "\n",
    "concat_df.to_csv(\"../data/aarhus_weather_data_combined.csv\")"
   ]
  }
 ],
 "metadata": {
  "kernelspec": {
   "display_name": "masters",
   "language": "python",
   "name": "masters"
  },
  "language_info": {
   "codemirror_mode": {
    "name": "ipython",
    "version": 3
   },
   "file_extension": ".py",
   "mimetype": "text/x-python",
   "name": "python",
   "nbconvert_exporter": "python",
   "pygments_lexer": "ipython3",
   "version": "3.12.4"
  }
 },
 "nbformat": 4,
 "nbformat_minor": 2
}
