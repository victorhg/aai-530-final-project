{
 "cells": [
  {
   "cell_type": "code",
   "execution_count": null,
   "metadata": {},
   "outputs": [],
   "source": [
    "import tarfile\n",
    "import pandas as pd\n",
    "import requests\n",
    "from zipfile import ZipFile\n",
    "from typing import List"
   ]
  },
  {
   "cell_type": "code",
   "execution_count": null,
   "metadata": {},
   "outputs": [],
   "source": [
    "def extract_csv_files(archive_path: str, headers: List[str]) -> pd.DataFrame:\n",
    "    if archive_path.endswith(\".tar.gz\"):\n",
    "        with tarfile.open(archive_path, \"r:gz\") as tar:\n",
    "            output = pd.concat([pd.read_csv(tar.extractfile(file))\n",
    "                               for file in tar.getnames()])\n",
    "\n",
    "    if archive_path.endswith(\".zip\"):\n",
    "        zip_file = ZipFile(archive_path)\n",
    "\n",
    "        output = pd.concat([pd.read_csv(zip_file.open(csv_file), header=None)\n",
    "                  for csv_file in zip_file.namelist()])\n",
    "    \n",
    "    output.columns = headers\n",
    "\n",
    "    return output"
   ]
  },
  {
   "cell_type": "code",
   "execution_count": null,
   "metadata": {},
   "outputs": [],
   "source": [
    "traffic_file_archives = [\"../raw_datasets/citypulse_traffic_raw_data_aarhus_aug_sep_2014.tar.gz\",\n",
    "                         \"../raw_datasets/citypulse_traffic_raw_data_aarhus_oct_nov_2014.zip\",\n",
    "                         ]\n",
    "\n",
    "headers = [\"status\", \"avg_measured_time\", \"avg_speed\",\t\"ext_id\",\n",
    "           \"median_measured_time\", \"timestamp\", \"vehicle_count\", \"_id\", \"report_id\"]"
   ]
  },
  {
   "cell_type": "code",
   "execution_count": null,
   "metadata": {},
   "outputs": [],
   "source": [
    "traffic_data = pd.concat([extract_csv_files(archive, headers)\n",
    "                for archive in traffic_file_archives])"
   ]
  },
  {
   "cell_type": "code",
   "execution_count": null,
   "metadata": {},
   "outputs": [],
   "source": [
    "traffic_data.shape"
   ]
  },
  {
   "cell_type": "code",
   "execution_count": null,
   "metadata": {},
   "outputs": [],
   "source": [
    "traffic_data.head()"
   ]
  },
  {
   "cell_type": "code",
   "execution_count": null,
   "metadata": {},
   "outputs": [],
   "source": [
    "# missing data\n",
    "traffic_data.isna().sum()"
   ]
  },
  {
   "cell_type": "code",
   "execution_count": null,
   "metadata": {},
   "outputs": [],
   "source": [
    "traffic_data.to_csv(\"../data/aarhus_traffic_data_aug_nov_2014.csv\")"
   ]
  }
 ],
 "metadata": {
  "kernelspec": {
   "display_name": "Python 3",
   "language": "python",
   "name": "python3"
  },
  "language_info": {
   "codemirror_mode": {
    "name": "ipython",
    "version": 3
   },
   "file_extension": ".py",
   "mimetype": "text/x-python",
   "name": "python",
   "nbconvert_exporter": "python",
   "pygments_lexer": "ipython3",
   "version": "3.11.11"
  }
 },
 "nbformat": 4,
 "nbformat_minor": 2
}
