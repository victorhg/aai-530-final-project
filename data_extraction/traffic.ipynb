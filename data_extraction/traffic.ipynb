{
 "cells": [
  {
   "cell_type": "code",
   "execution_count": 20,
   "metadata": {},
   "outputs": [],
   "source": [
    "import tarfile\n",
    "import pandas as pd\n",
    "import requests\n",
    "from zipfile import ZipFile\n",
    "from typing import List\n",
    "import requests\n",
    "from io import BytesIO"
   ]
  },
  {
   "cell_type": "code",
   "execution_count": 22,
   "metadata": {},
   "outputs": [],
   "source": [
    "def extract_csv_files(file_url_path: str, headers: List[str]) -> pd.DataFrame:\n",
    "    response = requests.get(file_url_path)\n",
    "    if file_url_path.endswith(\".tar.gz\"):\n",
    "        \n",
    "        with tarfile.open(fileobj=BytesIO(response.content), mode='r:gz') as tar:\n",
    "            output = pd.concat([pd.read_csv(tar.extractfile(file))\n",
    "                               for file in tar.getnames()])\n",
    "\n",
    "    if file_url_path.endswith(\".zip\"):\n",
    "        zip_file = ZipFile(BytesIO(response.content))\n",
    "\n",
    "        output = pd.concat([pd.read_csv(zip_file.open(csv_file), header=None)\n",
    "                  for csv_file in zip_file.namelist()])\n",
    "    \n",
    "    output.columns = headers\n",
    "\n",
    "    return output"
   ]
  },
  {
   "cell_type": "code",
   "execution_count": 23,
   "metadata": {},
   "outputs": [],
   "source": [
    "\n",
    "traffic_url_archives = [\"http://iot.ee.surrey.ac.uk:8080/datasets/traffic/traffic_oct_nov/citypulse_traffic_raw_data_aarhus_oct_nov_2014.zip\",\n",
    "                        \"http://iot.ee.surrey.ac.uk:8080/datasets/traffic/traffic_june_sep/citypulse_traffic_raw_data_aarhus_aug_sep_2014.tar.gz\"\n",
    "                        ]\n",
    "\n",
    "headers = [\"status\", \"avg_measured_time\", \"avg_speed\",\t\"ext_id\",\n",
    "           \"median_measured_time\", \"timestamp\", \"vehicle_count\", \"_id\", \"report_id\"]"
   ]
  },
  {
   "cell_type": "code",
   "execution_count": 24,
   "metadata": {},
   "outputs": [],
   "source": [
    "traffic_data = pd.concat([extract_csv_files(archive, headers)\n",
    "                for archive in traffic_url_archives])"
   ]
  },
  {
   "cell_type": "code",
   "execution_count": 25,
   "metadata": {},
   "outputs": [
    {
     "data": {
      "text/plain": [
       "(11520409, 9)"
      ]
     },
     "execution_count": 25,
     "metadata": {},
     "output_type": "execute_result"
    }
   ],
   "source": [
    "traffic_data.shape"
   ]
  },
  {
   "cell_type": "code",
   "execution_count": 26,
   "metadata": {},
   "outputs": [
    {
     "data": {
      "text/html": [
       "<div>\n",
       "<style scoped>\n",
       "    .dataframe tbody tr th:only-of-type {\n",
       "        vertical-align: middle;\n",
       "    }\n",
       "\n",
       "    .dataframe tbody tr th {\n",
       "        vertical-align: top;\n",
       "    }\n",
       "\n",
       "    .dataframe thead th {\n",
       "        text-align: right;\n",
       "    }\n",
       "</style>\n",
       "<table border=\"1\" class=\"dataframe\">\n",
       "  <thead>\n",
       "    <tr style=\"text-align: right;\">\n",
       "      <th></th>\n",
       "      <th>status</th>\n",
       "      <th>avg_measured_time</th>\n",
       "      <th>avg_speed</th>\n",
       "      <th>ext_id</th>\n",
       "      <th>median_measured_time</th>\n",
       "      <th>timestamp</th>\n",
       "      <th>vehicle_count</th>\n",
       "      <th>_id</th>\n",
       "      <th>report_id</th>\n",
       "    </tr>\n",
       "  </thead>\n",
       "  <tbody>\n",
       "    <tr>\n",
       "      <th>0</th>\n",
       "      <td>OK</td>\n",
       "      <td>78</td>\n",
       "      <td>47</td>\n",
       "      <td>668</td>\n",
       "      <td>78</td>\n",
       "      <td>2014-10-01T01:40:00</td>\n",
       "      <td>0</td>\n",
       "      <td>28071995</td>\n",
       "      <td>158324</td>\n",
       "    </tr>\n",
       "    <tr>\n",
       "      <th>1</th>\n",
       "      <td>OK</td>\n",
       "      <td>78</td>\n",
       "      <td>47</td>\n",
       "      <td>668</td>\n",
       "      <td>78</td>\n",
       "      <td>2014-10-01T01:45:00</td>\n",
       "      <td>0</td>\n",
       "      <td>28072438</td>\n",
       "      <td>158324</td>\n",
       "    </tr>\n",
       "    <tr>\n",
       "      <th>2</th>\n",
       "      <td>OK</td>\n",
       "      <td>76</td>\n",
       "      <td>48</td>\n",
       "      <td>668</td>\n",
       "      <td>76</td>\n",
       "      <td>2014-10-01T01:50:00</td>\n",
       "      <td>1</td>\n",
       "      <td>28072887</td>\n",
       "      <td>158324</td>\n",
       "    </tr>\n",
       "    <tr>\n",
       "      <th>3</th>\n",
       "      <td>OK</td>\n",
       "      <td>76</td>\n",
       "      <td>48</td>\n",
       "      <td>668</td>\n",
       "      <td>76</td>\n",
       "      <td>2014-10-01T01:55:00</td>\n",
       "      <td>1</td>\n",
       "      <td>28073334</td>\n",
       "      <td>158324</td>\n",
       "    </tr>\n",
       "    <tr>\n",
       "      <th>4</th>\n",
       "      <td>OK</td>\n",
       "      <td>60</td>\n",
       "      <td>61</td>\n",
       "      <td>668</td>\n",
       "      <td>60</td>\n",
       "      <td>2014-10-01T02:05:00</td>\n",
       "      <td>0</td>\n",
       "      <td>28074100</td>\n",
       "      <td>158324</td>\n",
       "    </tr>\n",
       "  </tbody>\n",
       "</table>\n",
       "</div>"
      ],
      "text/plain": [
       "  status  avg_measured_time  avg_speed  ext_id  median_measured_time  \\\n",
       "0     OK                 78         47     668                    78   \n",
       "1     OK                 78         47     668                    78   \n",
       "2     OK                 76         48     668                    76   \n",
       "3     OK                 76         48     668                    76   \n",
       "4     OK                 60         61     668                    60   \n",
       "\n",
       "             timestamp  vehicle_count       _id  report_id  \n",
       "0  2014-10-01T01:40:00              0  28071995     158324  \n",
       "1  2014-10-01T01:45:00              0  28072438     158324  \n",
       "2  2014-10-01T01:50:00              1  28072887     158324  \n",
       "3  2014-10-01T01:55:00              1  28073334     158324  \n",
       "4  2014-10-01T02:05:00              0  28074100     158324  "
      ]
     },
     "execution_count": 26,
     "metadata": {},
     "output_type": "execute_result"
    }
   ],
   "source": [
    "traffic_data.head()"
   ]
  },
  {
   "cell_type": "code",
   "execution_count": 27,
   "metadata": {},
   "outputs": [
    {
     "data": {
      "text/plain": [
       "status                  0\n",
       "avg_measured_time       0\n",
       "avg_speed               0\n",
       "ext_id                  0\n",
       "median_measured_time    0\n",
       "timestamp               0\n",
       "vehicle_count           0\n",
       "_id                     0\n",
       "report_id               0\n",
       "dtype: int64"
      ]
     },
     "execution_count": 27,
     "metadata": {},
     "output_type": "execute_result"
    }
   ],
   "source": [
    "# missing data\n",
    "traffic_data.isna().sum()"
   ]
  },
  {
   "cell_type": "code",
   "execution_count": 28,
   "metadata": {},
   "outputs": [],
   "source": [
    "traffic_data.to_csv(\"../data/aarhus_traffic_data_aug_nov_2014.csv\")"
   ]
  }
 ],
 "metadata": {
  "kernelspec": {
   "display_name": "masters",
   "language": "python",
   "name": "masters"
  },
  "language_info": {
   "codemirror_mode": {
    "name": "ipython",
    "version": 3
   },
   "file_extension": ".py",
   "mimetype": "text/x-python",
   "name": "python",
   "nbconvert_exporter": "python",
   "pygments_lexer": "ipython3",
   "version": "3.12.4"
  }
 },
 "nbformat": 4,
 "nbformat_minor": 2
}
