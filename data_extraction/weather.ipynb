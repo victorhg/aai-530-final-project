{
 "cells": [
  {
   "cell_type": "markdown",
   "metadata": {},
   "source": [
    "# Weather Dataset Preprocessing\n",
    "\n",
    "A dataset that has a collection of weather observations from the city of Aarhus, spanning from Feb through Sept in 2014 excluding July. "
   ]
  },
  {
   "cell_type": "code",
   "execution_count": 6,
   "metadata": {},
   "outputs": [],
   "source": [
    "import tarfile\n",
    "import pandas as pd\n",
    "import os\n",
    "import requests\n",
    "import json\n",
    "from pathlib import Path\n",
    "import matplotlib.pyplot as plt\n",
    "import zipfile\n",
    "from io import BytesIO"
   ]
  },
  {
   "cell_type": "code",
   "execution_count": 23,
   "metadata": {},
   "outputs": [],
   "source": [
    "# Download tar file\n",
    "response1 = requests.get('http://iot.ee.surrey.ac.uk:8080/datasets/weather/feb_jun_2014/raw_weather_data_aarhus.tar.gz')\n",
    "response2 = requests.get('http://iot.ee.surrey.ac.uk:8080/datasets/weather/aug_sep_2014/raw_weather_data_aug_sep_2014.zip')"
   ]
  },
  {
   "cell_type": "code",
   "execution_count": 24,
   "metadata": {},
   "outputs": [
    {
     "data": {
      "text/html": [
       "<div>\n",
       "<style scoped>\n",
       "    .dataframe tbody tr th:only-of-type {\n",
       "        vertical-align: middle;\n",
       "    }\n",
       "\n",
       "    .dataframe tbody tr th {\n",
       "        vertical-align: top;\n",
       "    }\n",
       "\n",
       "    .dataframe thead th {\n",
       "        text-align: right;\n",
       "    }\n",
       "</style>\n",
       "<table border=\"1\" class=\"dataframe\">\n",
       "  <thead>\n",
       "    <tr style=\"text-align: right;\">\n",
       "      <th></th>\n",
       "      <th>dewptm</th>\n",
       "      <th>pressurem</th>\n",
       "      <th>wdird</th>\n",
       "      <th>tempm</th>\n",
       "      <th>vism</th>\n",
       "      <th>wspdm</th>\n",
       "      <th>hum</th>\n",
       "    </tr>\n",
       "    <tr>\n",
       "      <th>Datetime</th>\n",
       "      <th></th>\n",
       "      <th></th>\n",
       "      <th></th>\n",
       "      <th></th>\n",
       "      <th></th>\n",
       "      <th></th>\n",
       "      <th></th>\n",
       "    </tr>\n",
       "  </thead>\n",
       "  <tbody>\n",
       "    <tr>\n",
       "      <th>2014-02-13 06:20:00</th>\n",
       "      <td>2.0</td>\n",
       "      <td>989</td>\n",
       "      <td>170</td>\n",
       "      <td>3.0</td>\n",
       "      <td>10.0</td>\n",
       "      <td>16.7</td>\n",
       "      <td>93</td>\n",
       "    </tr>\n",
       "    <tr>\n",
       "      <th>2014-02-13 13:50:00</th>\n",
       "      <td>1.0</td>\n",
       "      <td>989</td>\n",
       "      <td>200</td>\n",
       "      <td>7.0</td>\n",
       "      <td>10.0</td>\n",
       "      <td>14.8</td>\n",
       "      <td>66</td>\n",
       "    </tr>\n",
       "    <tr>\n",
       "      <th>2014-02-13 06:00:00</th>\n",
       "      <td>1</td>\n",
       "      <td>990</td>\n",
       "      <td>170</td>\n",
       "      <td>2</td>\n",
       "      <td>11</td>\n",
       "      <td>13.0</td>\n",
       "      <td>91</td>\n",
       "    </tr>\n",
       "    <tr>\n",
       "      <th>2014-02-13 03:00:00</th>\n",
       "      <td>1</td>\n",
       "      <td>992</td>\n",
       "      <td>150</td>\n",
       "      <td>3</td>\n",
       "      <td>8</td>\n",
       "      <td>20.4</td>\n",
       "      <td>84</td>\n",
       "    </tr>\n",
       "    <tr>\n",
       "      <th>2014-02-13 13:00:00</th>\n",
       "      <td>1</td>\n",
       "      <td>990</td>\n",
       "      <td>190</td>\n",
       "      <td>6</td>\n",
       "      <td>24</td>\n",
       "      <td>20.4</td>\n",
       "      <td>62</td>\n",
       "    </tr>\n",
       "  </tbody>\n",
       "</table>\n",
       "</div>"
      ],
      "text/plain": [
       "                    dewptm pressurem wdird tempm  vism wspdm hum\n",
       "Datetime                                                        \n",
       "2014-02-13 06:20:00    2.0       989   170   3.0  10.0  16.7  93\n",
       "2014-02-13 13:50:00    1.0       989   200   7.0  10.0  14.8  66\n",
       "2014-02-13 06:00:00      1       990   170     2    11  13.0  91\n",
       "2014-02-13 03:00:00      1       992   150     3     8  20.4  84\n",
       "2014-02-13 13:00:00      1       990   190     6    24  20.4  62"
      ]
     },
     "execution_count": 24,
     "metadata": {},
     "output_type": "execute_result"
    }
   ],
   "source": [
    "weather1_df = []\n",
    "with tarfile.open(fileobj=BytesIO(response1.content), mode='r:gz') as tar:\n",
    "    variables = tar.getnames() # saves the names of the files within the tar.gz\n",
    "\n",
    "    all_data = []\n",
    "\n",
    "    for variable in variables:\n",
    "        extracted_file = tar.extractfile(variable)\n",
    "        file_content = extracted_file.read().decode('utf-8')\n",
    "\n",
    "        # Split content into multiple JSON objects (each file line is a json object)\n",
    "        json_objects = file_content.strip().split('\\n')\n",
    "\n",
    "        variable_name = Path(variable).stem\n",
    "        variable_data = []\n",
    "\n",
    "        for obj in json_objects:\n",
    "            # Parse each JSON object and convert it to a dataframe\n",
    "            data_dict = json.loads(obj)\n",
    "            df = pd.DataFrame(list(data_dict.items()), columns=['Datetime', variable_name])\n",
    "                \n",
    "            # Convert the Datetime column to a pandas datetime format and use it as the index\n",
    "            df['Datetime'] = pd.to_datetime(df['Datetime'])\n",
    "            df.set_index('Datetime', inplace=True)\n",
    "                \n",
    "            # Append each line to the variable dataframe\n",
    "            variable_data.append(df)\n",
    "        variable_final = pd.concat(variable_data)\n",
    "        all_data.append(variable_final)\n",
    "        \n",
    "    # did outer joint to keep all indicies and fill NaN values for missing data\n",
    "    weather1_df = pd.concat(all_data, axis=1, join='outer')\n",
    "        \n",
    "weather1_df.head()"
   ]
  },
  {
   "cell_type": "code",
   "execution_count": 30,
   "metadata": {},
   "outputs": [
    {
     "name": "stdout",
     "output_type": "stream",
     "text": [
      "                    dewptm hum pressurem tempm wdird wspdm\n",
      "Datetime                                                  \n",
      "2014-08-01 01:00:00     13  64      1012    18   210   7.4\n",
      "2014-08-01 13:00:00     15  53      1013    22   180  11.1\n",
      "2014-08-01 01:20:00   13.0  73      1012  18.0   210   7.4\n",
      "2014-08-01 13:20:00   13.0  57      1013  22.0   180  14.8\n",
      "2014-08-01 13:50:00   12.0  47      1013  24.0   170  14.8\n",
      "...                    ...  ..       ...   ...   ...   ...\n",
      "2014-09-30 18:00:00      9  63      1025    14   100   9.3\n",
      "2014-09-30 04:00:00     11  84      1024    13   100   5.6\n",
      "2014-09-30 03:20:00   12.0  88      1023  14.0   100   3.7\n",
      "2014-09-30 04:20:00   12.0  88      1023  14.0    80   7.4\n",
      "2014-09-30 18:20:00    9.0  72      1025  14.0   100  11.1\n",
      "\n",
      "[4357 rows x 6 columns]\n"
     ]
    }
   ],
   "source": [
    "weather2_df = []\n",
    "with zipfile.ZipFile(BytesIO(response2.content), mode='r') as zip_ref:\n",
    "    # Get the list of files in the zip archive\n",
    "    variables = [file for file in zip_ref.namelist() if file.endswith('.txt') and not file.startswith('__MACOSX')]\n",
    "    all_data = []\n",
    "\n",
    "    for variable in variables:\n",
    "        # Extract the file content from the zip file\n",
    "        with zip_ref.open(variable) as extracted_file:\n",
    "            file_content = extracted_file.read().decode('utf-8')\n",
    "\n",
    "            # Split content into multiple JSON objects (each line is a JSON object)\n",
    "            json_objects = file_content.strip().split('\\n')\n",
    "\n",
    "            # Use the file name (without extension) as the variable name\n",
    "            variable_name = Path(variable).stem\n",
    "            variable_data = []\n",
    "\n",
    "            for obj in json_objects:\n",
    "                # Parse each JSON object and convert it into a DataFrame\n",
    "                data_dict = json.loads(obj)\n",
    "                df = pd.DataFrame(list(data_dict.items()), columns=['Datetime', variable_name])\n",
    "                    \n",
    "                # Convert the 'Datetime' column to pandas datetime format and set it as the index\n",
    "                df['Datetime'] = pd.to_datetime(df['Datetime'])\n",
    "                df.set_index('Datetime', inplace=True)\n",
    "                    \n",
    "                # Append each DataFrame to the list of variable data\n",
    "                variable_data.append(df)\n",
    "                \n",
    "            # Concatenate the DataFrames for this variable\n",
    "            variable_final = pd.concat(variable_data)\n",
    "            all_data.append(variable_final)\n",
    "\n",
    "    # Concatenate all DataFrames with an outer join to match indices (Datetime)\n",
    "    weather2_df = pd.concat(all_data, axis=1, join='outer')\n",
    "        \n",
    "weather2_df = pd.DataFrame(weather2_df)  # Convert to DataF\n",
    "# Print the final combined DataFrame\n",
    "print(weather2_df)"
   ]
  },
  {
   "cell_type": "code",
   "execution_count": 31,
   "metadata": {},
   "outputs": [
    {
     "name": "stdout",
     "output_type": "stream",
     "text": [
      "            dewptm    pressurem        wdird        tempm         vism  \\\n",
      "count  8207.000000  8203.000000  8146.000000  8207.000000  8207.000000   \n",
      "mean      4.229073  1013.638059   182.431868     9.061167  -390.753741   \n",
      "std       3.979373     9.515477    89.646687     4.830610  1969.870626   \n",
      "min      -9.000000   986.000000     0.000000    -3.000000 -9999.000000   \n",
      "25%       2.000000  1007.000000   110.000000     5.000000     8.000000   \n",
      "50%       3.000000  1014.000000   190.000000     8.000000    10.000000   \n",
      "75%       7.000000  1020.000000   260.000000    12.000000    10.000000   \n",
      "max      15.000000  1038.000000   360.000000    25.000000    50.000000   \n",
      "\n",
      "             wspdm          hum  \n",
      "count  8175.000000  8207.000000  \n",
      "mean     11.953700    71.157914  \n",
      "std     111.066814    16.132295  \n",
      "min   -9999.000000    12.000000  \n",
      "25%       7.400000    61.000000  \n",
      "50%      11.100000    75.000000  \n",
      "75%      18.500000    84.000000  \n",
      "max      64.800000   100.000000  \n"
     ]
    }
   ],
   "source": [
    "# Saving data for EDA\n",
    "concat_df = pd.concat([weather1_df, weather2_df])\n",
    "numeric_cols = ['dewptm', 'pressurem', 'wdird', 'tempm', 'vism', 'wspdm', 'hum']\n",
    "for col in numeric_cols:\n",
    "    concat_df[col] = pd.to_numeric(concat_df[col],  errors=\"coerce\")\n",
    "\n",
    "print(concat_df.describe())"
   ]
  },
  {
   "cell_type": "code",
   "execution_count": 32,
   "metadata": {},
   "outputs": [
    {
     "data": {
      "image/png": "[encoded data removed]",
      "text/plain": [
       "<Figure size 1000x500 with 1 Axes>"
      ]
     },
     "metadata": {},
     "output_type": "display_data"
    }
   ],
   "source": [
    "#identifying outliers\n",
    "concat_df.boxplot(column=numeric_cols, figsize=(10,5))\n",
    "plt.show()"
   ]
  },
  {
   "cell_type": "code",
   "execution_count": 33,
   "metadata": {},
   "outputs": [
    {
     "name": "stdout",
     "output_type": "stream",
     "text": [
      "vism     10.0\n",
      "wspdm    11.1\n",
      "dtype: float64\n"
     ]
    },
    {
     "data": {
      "image/png": "[encoded data removed]",
      "text/plain": [
       "<Figure size 1000x300 with 1 Axes>"
      ]
     },
     "metadata": {},
     "output_type": "display_data"
    }
   ],
   "source": [
    "# Removing vism and wspdm Outliers\n",
    "cols = ['vism', 'wspdm']\n",
    "median_values = concat_df[cols].median()\n",
    "print(median_values)\n",
    "bad_reading = -9990\n",
    "concat_df.loc[concat_df['vism'] < -9990] = median_values['vism']\n",
    "concat_df.loc[concat_df['wspdm'] < -9990] = median_values['wspdm']\n",
    "\n",
    "concat_df.boxplot(column=numeric_cols, figsize=(10,3))\n",
    "plt.show()"
   ]
  },
  {
   "cell_type": "code",
   "execution_count": 34,
   "metadata": {},
   "outputs": [],
   "source": [
    "\n",
    "concat_df.to_csv(\"../data/aarhus_weather_data_combined.csv\")"
   ]
  }
 ],
 "metadata": {
  "kernelspec": {
   "display_name": "Python 3",
   "language": "python",
   "name": "python3"
  },
  "language_info": {
   "codemirror_mode": {
    "name": "ipython",
    "version": 3
   },
   "file_extension": ".py",
   "mimetype": "text/x-python",
   "name": "python",
   "nbconvert_exporter": "python",
   "pygments_lexer": "ipython3",
   "version": "3.11.11"
  }
 },
 "nbformat": 4,
 "nbformat_minor": 2
}
