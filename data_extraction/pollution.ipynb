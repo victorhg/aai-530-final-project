{
 "cells": [
  {
   "attachments": {},
   "cell_type": "markdown",
   "metadata": {},
   "source": [
    "# Pollution Processing\n",
    "\n",
    "Using file download: http://iot.ee.surrey.ac.uk:8080/datasets/pollution/citypulse_pollution_csv_data_aarhus_aug_oct_2014.tar.gz"
   ]
  },
  {
   "cell_type": "code",
   "execution_count": null,
   "metadata": {},
   "outputs": [],
   "source": [
    "import tarfile\n",
    "import pandas as pd\n",
    "import os\n",
    "import json\n",
    "import requests\n",
    "from pathlib import Path\n",
    "import matplotlib.pyplot as plt\n",
    "import zipfile\n",
    "from typing import List\n",
    "from io import BytesIO"
   ]
  },
  {
   "cell_type": "code",
   "execution_count": null,
   "metadata": {},
   "outputs": [],
   "source": [
    "# Download tar file\n",
    "response = requests.get('http://iot.ee.surrey.ac.uk:8080/datasets/pollution/citypulse_pollution_csv_data_aarhus_aug_oct_2014.tar.gz')\n",
    "pollution_df = pd.DataFrame()\n"
   ]
  },
  {
   "cell_type": "code",
   "execution_count": null,
   "metadata": {},
   "outputs": [],
   "source": [
    "with tarfile.open(fileobj=BytesIO(response.content), mode='r:gz') as tar:\n",
    "    pollution_df = pd.concat([pd.read_csv(tar.extractfile(file))\n",
    "                        for file in tar.getnames()])\n",
    "\n",
    "pollution_df.head()"
   ]
  },
  {
   "cell_type": "code",
   "execution_count": null,
   "metadata": {},
   "outputs": [],
   "source": [
    "print(\"Pollution Date Range:\", pollution_df.timestamp.min(), \"-\", pollution_df.timestamp.max())\n",
    "pollution_df.describe()"
   ]
  },
  {
   "cell_type": "code",
   "execution_count": null,
   "metadata": {},
   "outputs": [],
   "source": [
    "print(pollution_df.isna().sum())\n",
    "# Visualizing Missing files\n",
    "missing_data = pollution_df.drop('timestamp', axis = 1).isna().groupby(pollution_df.timestamp, sort = False).sum().reset_index()\n",
    "missing_data.plot(x='timestamp', \n",
    "                title=\"Pollution Missing values\",\n",
    "                y=pollution_df.columns[2:-1], \n",
    "                subplots=True,\n",
    "                figsize=(10,5))\n",
    "\n",
    "missing_data.describe()"
   ]
  },
  {
   "cell_type": "code",
   "execution_count": null,
   "metadata": {},
   "outputs": [],
   "source": [
    "pollution_df.to_csv(\"../data/aarhus_pollution_data_aug_oct_2014.csv\")\n"
   ]
  }
 ],
 "metadata": {
  "kernelspec": {
   "display_name": "Python 3",
   "language": "python",
   "name": "python3"
  },
  "language_info": {
   "codemirror_mode": {
    "name": "ipython",
    "version": 3
   },
   "file_extension": ".py",
   "mimetype": "text/x-python",
   "name": "python",
   "nbconvert_exporter": "python",
   "pygments_lexer": "ipython3",
   "version": "3.11.11"
  }
 },
 "nbformat": 4,
 "nbformat_minor": 2
}
