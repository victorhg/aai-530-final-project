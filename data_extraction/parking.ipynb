{
 "cells": [
  {
   "cell_type": "code",
   "execution_count": null,
   "metadata": {},
   "outputs": [],
   "source": [
    "\n",
    "import pandas as pd\n",
    "import os\n",
    "import json\n",
    "\n",
    "from geopy.geocoders import Nominatim\n",
    "import folium"
   ]
  },
  {
   "cell_type": "code",
   "execution_count": null,
   "metadata": {},
   "outputs": [],
   "source": [
    "# Using file from Main Reference website\n",
    "parking_df = pd.read_csv('http://iot.ee.surrey.ac.uk:8080/datasets/parking/aarhus_parking.csv', sep=',')\n",
    "parking_df.head()"
   ]
  },
  {
   "cell_type": "code",
   "execution_count": null,
   "metadata": {},
   "outputs": [],
   "source": [
    "# update garage code to geolocation search to work\n",
    "parking_df.loc[parking_df['garagecode'] == 'SCANDCENTER', 'garagecode'] = 'SCANDINAVIAN CENTER'\n",
    "parking_df.head()"
   ]
  },
  {
   "cell_type": "markdown",
   "metadata": {},
   "source": [
    "# Process geolocation from garageCodes using GeoPy\n"
   ]
  },
  {
   "cell_type": "code",
   "execution_count": null,
   "metadata": {},
   "outputs": [],
   "source": [
    "\n",
    "garages = parking_df.groupby(\"garagecode\")\n",
    "print(garages.count())\n",
    "\n",
    "garage_codes = garages['garagecode'].unique()\n",
    "print(garage_codes)\n",
    "\n",
    "\n",
    "# calling the Nominatim tool\n",
    "loc = Nominatim(user_agent=\"GetLoc\")\n",
    " \n",
    "# entering the location name\n",
    "for row in garage_codes:\n",
    "    getLoc = loc.geocode(f'{row[0]}, Aarhus, Denmark')\n",
    "    parking_df.loc[parking_df['garagecode'] == row[0], 'latitude'] = getLoc.latitude\n",
    "    parking_df.loc[parking_df['garagecode'] == row[0],'longitude'] = getLoc.longitude\n",
    "    parking_df.loc[parking_df['garagecode'] == row[0],'address'] = getLoc.address\n",
    "    "
   ]
  },
  {
   "cell_type": "code",
   "execution_count": null,
   "metadata": {},
   "outputs": [],
   "source": [
    "parking_df.head()"
   ]
  },
  {
   "cell_type": "code",
   "execution_count": null,
   "metadata": {},
   "outputs": [],
   "source": [
    "na_rows = parking_df[parking_df.isna().any(axis=1)]\n",
    "na_rows"
   ]
  },
  {
   "cell_type": "code",
   "execution_count": null,
   "metadata": {},
   "outputs": [],
   "source": [
    "# This is the file we will use in our analyze \n",
    "parking_df.to_csv('../data/aarhus_parking_geolocated.csv')"
   ]
  },
  {
   "attachments": {},
   "cell_type": "markdown",
   "metadata": {},
   "source": [
    "## Georeferencing\n"
   ]
  },
  {
   "cell_type": "code",
   "execution_count": null,
   "metadata": {},
   "outputs": [],
   "source": [
    "AARHUS_GEOLOCATION = [56.16182966470494, 10.197421860666816]\n",
    "\n",
    "parking_df = pd.read_csv('../data/aarhus_parking_geolocated.csv', sep=',')\n",
    "map = folium.Map(location=AARHUS_GEOLOCATION, zoom_start=13)\n",
    "garage_codes = parking_df.groupby(['garagecode', 'address', 'latitude', 'longitude']).count().reset_index()\n",
    "\n",
    "\n",
    "garage_codes.head()"
   ]
  },
  {
   "cell_type": "code",
   "execution_count": null,
   "metadata": {},
   "outputs": [],
   "source": [
    "# markers on a map\n",
    "for index, address in garage_codes.iterrows():\n",
    "   folium.Marker(\n",
    "         location=[address['latitude'], address['longitude']],\n",
    "         popup=address['garagecode'],\n",
    "      ).add_to(map)\n",
    "\n",
    "map"
   ]
  },
  {
   "cell_type": "code",
   "execution_count": null,
   "metadata": {},
   "outputs": [],
   "source": []
  }
 ],
 "metadata": {
  "kernelspec": {
   "display_name": "Python 3",
   "language": "python",
   "name": "python3"
  },
  "language_info": {
   "codemirror_mode": {
    "name": "ipython",
    "version": 3
   },
   "file_extension": ".py",
   "mimetype": "text/x-python",
   "name": "python",
   "nbconvert_exporter": "python",
   "pygments_lexer": "ipython3",
   "version": "3.11.11"
  }
 },
 "nbformat": 4,
 "nbformat_minor": 2
}
