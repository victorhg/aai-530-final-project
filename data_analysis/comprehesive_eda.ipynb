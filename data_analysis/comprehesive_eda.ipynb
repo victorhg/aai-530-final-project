{
 "cells": [
  {
   "attachments": {},
   "cell_type": "markdown",
   "metadata": {},
   "source": [
    "## EDA Smart City"
   ]
  },
  {
   "cell_type": "markdown",
   "metadata": {},
   "source": []
  },
  {
   "cell_type": "code",
   "execution_count": null,
   "metadata": {},
   "outputs": [],
   "source": [
    "import pandas as pd\n",
    "import seaborn as sns\n",
    "import matplotlib as mpl\n",
    "import matplotlib.pyplot as plt\n",
    "import numpy as np\n",
    "from sklearn.cluster import DBSCAN\n",
    "# Set agg.path.chunksize to a higher value\n",
    "mpl.rcParams['agg.path.chunksize'] = 10000\n",
    "\n",
    "sns.set()"
   ]
  },
  {
   "attachments": {},
   "cell_type": "markdown",
   "metadata": {},
   "source": [
    "## Traffic information\n",
    "\n",
    "- Run File Traffic Processing to aggregate and generate csv file"
   ]
  },
  {
   "cell_type": "code",
   "execution_count": null,
   "metadata": {},
   "outputs": [],
   "source": [
    "numeric_cols = ['vehicle_count', 'avg_speed',  'avg_measured_time', 'median_measured_time']\n",
    "\n",
    "traffic_df = pd.read_csv(\"../data/aarhus_traffic_data_aug_nov_2014.csv\")\n",
    "traffic_df['timestamp'] = pd.to_datetime(traffic_df['timestamp'])\n",
    "traffic_df.set_index('timestamp', inplace=True)\n",
    "traffic_df.head()"
   ]
  },
  {
   "cell_type": "code",
   "execution_count": null,
   "metadata": {},
   "outputs": [],
   "source": [
    "\n",
    "traffic_df.describe()"
   ]
  },
  {
   "cell_type": "code",
   "execution_count": null,
   "metadata": {},
   "outputs": [],
   "source": [
    "# Sampling\n",
    "# Aggregate numeric columns by mean for hourly intervals\n",
    "#hourly_data = traffic_df[numeric_cols].resample('H').mean().reset_index()\n",
    "sampled_data = traffic_df.sample(frac=0.1, random_state=42).sort_index()\n",
    "sampled_data.describe()"
   ]
  },
  {
   "cell_type": "code",
   "execution_count": null,
   "metadata": {},
   "outputs": [],
   "source": [
    "# General Data Visualization\n",
    "sampled_data[numeric_cols].plot(subplots=True)"
   ]
  },
  {
   "cell_type": "code",
   "execution_count": null,
   "metadata": {},
   "outputs": [],
   "source": [
    "# Compute weekly rolling average instead of 5 minute-level\n",
    "window_size = 7 * 24  # 7 days * 24 hours (weekly window)\n",
    "df_rolling = sampled_data[numeric_cols].rolling(window=window_size, min_periods=1).mean()\n",
    "print(df_rolling.columns)\n",
    "df_rolling.reset_index(inplace=True)\n",
    "df_rolling.head()\n"
   ]
  },
  {
   "cell_type": "code",
   "execution_count": null,
   "metadata": {},
   "outputs": [],
   "source": [
    "# Reshape for Seaborn\n",
    "long_rolling_avg_sampled = df_rolling.melt(id_vars='timestamp', var_name='Variable', value_name='Value')\n",
    "\n",
    "# Plot with Seaborn\n",
    "plt.figure(figsize=(15, 6))\n",
    "sns.lineplot(data=long_rolling_avg_sampled, x='timestamp', y='Value', hue='Variable')\n",
    "plt.title('Traffic Data Moving Average (Sampled)', fontsize=16)\n",
    "plt.xlabel('Timestamp', fontsize=14)\n",
    "plt.ylabel('Moving Average', fontsize=14)\n",
    "plt.legend(title='Variable', loc='upper right')\n",
    "plt.grid(True)\n",
    "plt.show()"
   ]
  },
  {
   "cell_type": "code",
   "execution_count": null,
   "metadata": {},
   "outputs": [],
   "source": [
    "\n",
    "month_means = sampled_data.reset_index().groupby(\n",
    "    pd.Grouper(key=\"timestamp\", freq=\"1W\"))[numeric_cols].mean().reset_index()\n",
    "print(month_means.head())\n",
    "\n",
    "month_means.plot('timestamp', \n",
    "                 figsize = (20,5), \n",
    "                 subplots=True, \n",
    "                 title=\"Weekly Average\")\n"
   ]
  },
  {
   "cell_type": "code",
   "execution_count": null,
   "metadata": {},
   "outputs": [],
   "source": [
    "# Pivot table for heatmap\n",
    "heatmap_data = traffic_df.pivot_table(values='vehicle_count', index='hour', columns='day', aggfunc='mean')\n",
    "\n",
    "# Plot heatmap\n",
    "plt.figure(figsize=(10, 5))\n",
    "sns.heatmap(heatmap_data, cmap='coolwarm')\n",
    "plt.title('Hourly Traffic Heatmap - Full timeframe')\n",
    "plt.show()"
   ]
  },
  {
   "cell_type": "code",
   "execution_count": null,
   "metadata": {},
   "outputs": [],
   "source": [
    "# Cluster vehicle_count and avg_speed\n",
    "# Grouping ttraffic information trying to indentify congestion\n",
    "X = sampled_data[['vehicle_count', 'avg_speed']].values\n",
    "clustering = DBSCAN(eps=0.5, min_samples=10).fit(X)\n",
    "sampled_data['cluster'] = clustering.labels_\n",
    "\n",
    "# Visualize clusters\n",
    "sns.scatterplot(data=sampled_data, x='vehicle_count', y='avg_speed', hue='cluster')\n",
    "plt.title('Traffic Behavior Clusters')\n",
    "plt.show()"
   ]
  },
  {
   "attachments": {},
   "cell_type": "markdown",
   "metadata": {},
   "source": [
    "## Parking information\n",
    "\n"
   ]
  },
  {
   "cell_type": "code",
   "execution_count": null,
   "metadata": {},
   "outputs": [],
   "source": [
    "parking_df = pd.read_csv(\"../data/aarhus_parking_geolocated.csv\")\n",
    "parking_df['updatetime'] = pd.to_datetime(parking_df['updatetime'], format='mixed')\n",
    "parking_df.set_index('updatetime', inplace=True)\n",
    "parking_df.head()"
   ]
  },
  {
   "cell_type": "code",
   "execution_count": null,
   "metadata": {},
   "outputs": [],
   "source": [
    "# Pivot table for heatmap\n",
    "heatmap_data = parking_df.pivot_table(values='vehiclecount', index=parking_df.index.date, columns=parking_df.index.hour, aggfunc='mean')\n",
    "\n",
    "# Plot heatmap\n",
    "plt.figure(figsize=(10, 5))\n",
    "sns.heatmap(heatmap_data, cmap='coolwarm')\n",
    "plt.title('Hourly Traffic Heatmap')\n",
    "plt.show()"
   ]
  },
  {
   "attachments": {},
   "cell_type": "markdown",
   "metadata": {},
   "source": [
    "### Connecting Traffic and Parking"
   ]
  },
  {
   "cell_type": "code",
   "execution_count": null,
   "metadata": {},
   "outputs": [],
   "source": [
    "# Defining analysis period\n",
    "# Using parking data information as baseline for analysis\n",
    "date_start = parking_df.index.min()\n",
    "date_end = parking_df.index.max() \n",
    "\n",
    "print(f'Period covered: {date_start} - {date_end}')"
   ]
  },
  {
   "cell_type": "code",
   "execution_count": null,
   "metadata": {},
   "outputs": [],
   "source": [
    "# sampling traffic for period based on parking timeframe\n",
    "date_sample_traffic = traffic_df.loc[(traffic_df.index >= date_start) & (traffic_df.index <= date_end)]\n",
    "\n",
    "# Resample traffic data\n",
    "traffic_resampled = traffic_df['vehicle_count'].resample('15T').mean()\n",
    "\n",
    "# Resample parking data\n",
    "parking_resampled = parking_df['vehiclecount'].resample('15T').mean()\n",
    "\n",
    "# Combine into a single DataFrame\n",
    "combined_traffic_parking_df = pd.concat([traffic_resampled, parking_resampled], axis=1)\n",
    "\n",
    "combined_traffic_parking_df = pd.merge_asof(\n",
    "    traffic_resampled.sort_index(),\n",
    "    parking_resampled.sort_index(),\n",
    "    left_index=True,\n",
    "    right_index=True,\n",
    "    direction='nearest'\n",
    ")\n",
    "combined_traffic_parking_df.rename(columns = {\"vehiclecount\": \"parking_occupancy\"}, inplace=True)\n",
    "\n",
    "\n",
    "median_values = combined_traffic_parking_df.median()\n",
    "print(median_values)\n",
    "for col, variable in median_values.items():\n",
    "    combined_traffic_parking_df.fillna({col: variable}, inplace=True)\n",
    "\n",
    "combined_traffic_parking_df"
   ]
  },
  {
   "cell_type": "code",
   "execution_count": null,
   "metadata": {},
   "outputs": [],
   "source": [
    "fig, ax1 = plt.subplots(figsize=(15, 6))\n",
    "\n",
    "# Traffic data\n",
    "ax1.plot(combined_traffic_parking_df.index, combined_traffic_parking_df['vehicle_count'], color='orange', label='Traffic')\n",
    "ax1.set_ylabel('Vehicle Count')\n",
    "\n",
    "# Parking data\n",
    "ax2 = ax1.twinx()\n",
    "ax2.plot(combined_traffic_parking_df.index, combined_traffic_parking_df['parking_occupancy'], color='green', label='Parking')\n",
    "ax2.set_ylabel('Parking Occupancy (%)')\n",
    "\n",
    "plt.title('Traffic vs Parking Occupancy')\n",
    "fig.legend(loc='upper right')\n",
    "plt.show()\n"
   ]
  },
  {
   "attachments": {},
   "cell_type": "markdown",
   "metadata": {},
   "source": [
    "## Weather Information\n"
   ]
  },
  {
   "cell_type": "code",
   "execution_count": null,
   "metadata": {},
   "outputs": [],
   "source": [
    "weather_df = pd.read_csv(\"../data/aarhus_weather_data_combined.csv\")\n",
    "weather_df['Datetime'] = pd.to_datetime(weather_df['Datetime'])\n",
    "weather_df.set_index('Datetime', inplace=True)\n",
    "weather_df.head()"
   ]
  },
  {
   "cell_type": "code",
   "execution_count": null,
   "metadata": {},
   "outputs": [],
   "source": [
    "weather_df.sort_index().plot(subplots=True, figsize=(10,7), fontsize=8)"
   ]
  },
  {
   "attachments": {},
   "cell_type": "markdown",
   "metadata": {},
   "source": [
    "### Asserting dataset Date Alignment"
   ]
  },
  {
   "cell_type": "code",
   "execution_count": null,
   "metadata": {},
   "outputs": [],
   "source": [
    "# Data Alignment\n",
    "print(\"Traffic Date Range:\", traffic_df.index.min(), \"-\", traffic_df.index.max())\n",
    "print(\"Weather Date Range:\", weather_df.index.min(), \"-\", weather_df.index.max())\n",
    "print(\"Parking Date Range:\", parking_df.index.min(), \"-\", parking_df.index.max())"
   ]
  },
  {
   "attachments": {},
   "cell_type": "markdown",
   "metadata": {},
   "source": [
    "## Correlations"
   ]
  },
  {
   "cell_type": "code",
   "execution_count": null,
   "metadata": {},
   "outputs": [],
   "source": [
    "combined_weather_traffic_parking_df = pd.merge_asof(\n",
    "    combined_traffic_parking_df.sort_index(),\n",
    "    weather_df.sort_index(),\n",
    "    left_index=True,\n",
    "    right_index=True,\n",
    "    direction='nearest'\n",
    ").merge(\n",
    "    parking_df,\n",
    "    left_index=True,\n",
    "    right_index=True,\n",
    "    how='left'\n",
    ")\n",
    "\n",
    "combined_weather_traffic_parking_df.head()"
   ]
  },
  {
   "cell_type": "code",
   "execution_count": null,
   "metadata": {},
   "outputs": [],
   "source": [
    "corr_cols = ['vehicle_count', 'parking_occupancy', 'tempm', 'hum', 'wspdm']\n",
    "corr_matrix = combined_weather_traffic_parking_df[corr_cols].corr()\n",
    "\n",
    "plt.figure(figsize=(10,4))\n",
    "sns.heatmap(corr_matrix, annot=True, cmap='coolwarm', center=0)\n",
    "plt.title('Weather-Traffic-Parking Correlation Matrix')\n",
    "plt.show()"
   ]
  },
  {
   "cell_type": "code",
   "execution_count": null,
   "metadata": {},
   "outputs": [],
   "source": [
    "fig, ax1 = plt.subplots(figsize=(10,5))\n",
    "\n",
    "# Traffic and Parking\n",
    "ax1.plot(combined_weather_traffic_parking_df.index, combined_weather_traffic_parking_df['vehicle_count'], \n",
    "        color='blue', label='Traffic')\n",
    "ax1.plot(combined_weather_traffic_parking_df.index, combined_weather_traffic_parking_df['parking_occupancy'], \n",
    "        color='green', linestyle='--', label='Parking')\n",
    "ax1.set_ylabel('Traffic/Parking Units', color='navy')\n",
    "\n",
    "# Weather (Temperature)\n",
    "ax2 = ax1.twinx()\n",
    "ax2.plot(combined_weather_traffic_parking_df.index, combined_weather_traffic_parking_df['tempm'], \n",
    "        color='red', label='Temperature')\n",
    "ax2.set_ylabel('°C', color='red')\n",
    "\n",
    "plt.title('Integrated Traffic-Parking-Weather Trends')\n",
    "fig.legend(loc='upper left')\n",
    "plt.show()"
   ]
  },
  {
   "cell_type": "code",
   "execution_count": null,
   "metadata": {},
   "outputs": [],
   "source": [
    "# Align frequencies (hourly example)\n",
    "traffic_hourly = traffic_df['vehicle_count'].resample('H').mean()\n",
    "weather_hourly = weather_df.resample('H').mean()\n",
    "\n",
    "# Merge using nearest timestamps \n",
    "combined = pd.merge_asof(\n",
    "    traffic_hourly.to_frame(),\n",
    "    weather_hourly,\n",
    "    left_index=True,\n",
    "    right_index=True,\n",
    "    direction='nearest'\n",
    ")\n",
    "\n",
    "combined"
   ]
  },
  {
   "cell_type": "code",
   "execution_count": null,
   "metadata": {},
   "outputs": [],
   "source": [
    "# Calculate correlation matrix \n",
    "corr_matrix = combined[['vehicle_count', 'tempm', 'hum', 'wspdm', 'vism']].corr()\n",
    "\n",
    "# Visualize with heatmap\n",
    "plt.figure(figsize=(10,6))\n",
    "sns.heatmap(corr_matrix, annot=True, cmap='icefire', center=0)\n",
    "plt.title('Weather-Traffic Correlation Matrix')\n",
    "plt.show()"
   ]
  },
  {
   "cell_type": "code",
   "execution_count": null,
   "metadata": {},
   "outputs": [],
   "source": [
    "fig, ax1 = plt.subplots(figsize=(18,6))\n",
    "\n",
    "# Traffic data \n",
    "ax1.plot(combined.index, combined['vehicle_count'], 'b', label='Traffic')\n",
    "ax1.set_ylabel('Vehicle Count', color='b')\n",
    "\n",
    "# Temperature overlay \n",
    "ax2 = ax1.twinx()\n",
    "ax2.plot(combined.index, combined['tempm'], 'r', label='Temperature')\n",
    "ax2.set_ylabel('°C', color='r')\n",
    "\n",
    "# Formatting\n",
    "plt.title('Traffic vs Temperature Trends')\n",
    "fig.legend(loc='upper left')\n",
    "plt.show()"
   ]
  },
  {
   "attachments": {},
   "cell_type": "markdown",
   "metadata": {},
   "source": [
    "# Pollution information\n"
   ]
  },
  {
   "cell_type": "code",
   "execution_count": null,
   "metadata": {},
   "outputs": [],
   "source": [
    "pollution_df = pd.read_csv(\"../data/aarhus_pollution_data_aug_oct_2014.csv\")\n",
    "pollution_df['timestamp'] = pd.to_datetime(pollution_df['timestamp'])\n",
    "pollution_df.set_index('timestamp', inplace=True)\n",
    "pollution_df.head()"
   ]
  },
  {
   "attachments": {},
   "cell_type": "markdown",
   "metadata": {},
   "source": [
    "## Pollution and Traffic Data (number of cars)"
   ]
  },
  {
   "cell_type": "code",
   "execution_count": null,
   "metadata": {},
   "outputs": [],
   "source": [
    "# Align frequencies (hourly example)\n",
    "traffic_hourly = traffic_df['vehicle_count'].resample('H').mean()\n",
    "pollution_hourly = pollution_df.resample('H').mean()\n",
    "\n",
    "# Merge using nearest timestamps \n",
    "combined = pd.merge_asof(\n",
    "    traffic_hourly.to_frame(),\n",
    "    pollution_hourly,\n",
    "    left_index=True,\n",
    "    right_index=True,\n",
    "    direction='nearest'\n",
    ")\n",
    "\n",
    "combined"
   ]
  },
  {
   "cell_type": "code",
   "execution_count": null,
   "metadata": {},
   "outputs": [],
   "source": [
    "# Time alignment\n",
    "print(\"Traffic Date Range:\", traffic_df.index.min(), \"-\", traffic_df.index.max())\n",
    "print(\"Pollution Date Range:\", pollution_df.index.min(), \"-\", pollution_df.index.max())"
   ]
  },
  {
   "cell_type": "code",
   "execution_count": null,
   "metadata": {},
   "outputs": [],
   "source": [
    "# Calculate correlation matrix \n",
    "corr_matrix = combined[['vehicle_count', 'ozone',\t'particullate_matter', 'carbon_monoxide', 'sulfure_dioxide', 'nitrogen_dioxide'\t]].corr()\n",
    "\n",
    "# Visualize with heatmap\n",
    "plt.figure(figsize=(10,6))\n",
    "sns.heatmap(corr_matrix, annot=True, cmap=\"Blues\" ,center=0)\n",
    "plt.title('Pollution-Traffic Correlation Matrix')\n",
    "plt.show()"
   ]
  },
  {
   "attachments": {},
   "cell_type": "markdown",
   "metadata": {},
   "source": [
    "### Pollution and location\n"
   ]
  },
  {
   "cell_type": "code",
   "execution_count": null,
   "metadata": {},
   "outputs": [],
   "source": [
    "import folium\n",
    "from folium.plugins import HeatMap\n",
    "\n",
    "AARHUS_GEOLOCATION = [56.16182966470494, 10.197421860666816]\n",
    "\n",
    "def generateBaseMap(default_location=AARHUS_GEOLOCATION, default_zoom=11):\n",
    "    base_map = folium.Map(location=default_location, control_scale=True, zoom_start=default_zoom)\n",
    "    return base_map\n",
    "\n",
    "pollution_sensor = pollution_df.groupby([\"latitude\", \"longitude\"]).count().reset_index()\n",
    "map = generateBaseMap()\n",
    "\n",
    "# markers on a map\n",
    "for index, address in pollution_sensor.iterrows():\n",
    "   folium.Marker(\n",
    "         location=[address['latitude'], address['longitude']]\n",
    "      ).add_to(map)\n",
    "\n",
    "map"
   ]
  },
  {
   "cell_type": "code",
   "execution_count": null,
   "metadata": {},
   "outputs": [],
   "source": []
  }
 ],
 "metadata": {
  "kernelspec": {
   "display_name": "Python 3",
   "language": "python",
   "name": "python3"
  },
  "language_info": {
   "codemirror_mode": {
    "name": "ipython",
    "version": 3
   },
   "file_extension": ".py",
   "mimetype": "text/x-python",
   "name": "python",
   "nbconvert_exporter": "python",
   "pygments_lexer": "ipython3",
   "version": "3.11.11"
  }
 },
 "nbformat": 4,
 "nbformat_minor": 2
}
