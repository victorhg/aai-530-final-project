{
 "cells": [
  {
   "cell_type": "code",
   "execution_count": null,
   "metadata": {},
   "outputs": [],
   "source": [
    "import tarfile\n",
    "import pandas as pd\n",
    "from zipfile import ZipFile\n",
    "from typing import List\n",
    "\n",
    "# data visualization\n",
    "import folium\n",
    "import branca.colormap as cm"
   ]
  },
  {
   "cell_type": "markdown",
   "metadata": {},
   "source": [
    "## Traffic Data Preprocessing"
   ]
  },
  {
   "cell_type": "code",
   "execution_count": null,
   "metadata": {},
   "outputs": [],
   "source": [
    "def extract_csv_files(archive_path: str, headers: List[str]) -> pd.DataFrame:\n",
    "    if archive_path.endswith(\".tar.gz\"):\n",
    "        with tarfile.open(archive_path, \"r:gz\") as tar:\n",
    "            output = pd.concat([pd.read_csv(tar.extractfile(file), encoding=\"latin-1\")\n",
    "                               for file in tar.getnames()])\n",
    "\n",
    "    if archive_path.endswith(\".zip\"):\n",
    "        zip_file = ZipFile(archive_path)\n",
    "\n",
    "        output = pd.concat([pd.read_csv(zip_file.open(csv_file), header=None)\n",
    "                            for csv_file in zip_file.namelist()])\n",
    "\n",
    "    if headers:\n",
    "        output.columns = headers\n",
    "\n",
    "    return output"
   ]
  },
  {
   "cell_type": "code",
   "execution_count": null,
   "metadata": {},
   "outputs": [],
   "source": [
    "traffic_file_archives = [\"../raw_datasets/citypulse_traffic_raw_data_aarhus_aug_sep_2014.tar.gz\",\n",
    "                         \"../raw_datasets/citypulse_traffic_raw_data_aarhus_oct_nov_2014.zip\",\n",
    "                         ]\n",
    "\n",
    "headers = [\"status\", \"avg_measured_time\", \"avg_speed\",\t\"ext_id\",\n",
    "           \"median_measured_time\", \"timestamp\", \"vehicle_count\", \"_id\", \"report_id\"]\n",
    "\n",
    "traffic_data = pd.concat([extract_csv_files(archive, headers)\n",
    "                          for archive in traffic_file_archives])\n",
    "\n",
    "traffic_meta_data = pd.read_csv(\"http://iot.ee.surrey.ac.uk:8080/datasets/traffic/trafficMetaData.csv\", sep=\",\")\n",
    "\n",
    "traffic_data = traffic_data.merge(traffic_meta_data,\n",
    "                                  how=\"left\",\n",
    "                                  left_on=\"report_id\",\n",
    "                                  right_on=\"REPORT_ID\")\n",
    "\n",
    "traffic_data[\"timestamp\"] = pd.to_datetime(traffic_data[\"timestamp\"])"
   ]
  },
  {
   "cell_type": "code",
   "execution_count": null,
   "metadata": {},
   "outputs": [],
   "source": [
    "linear = cm.linear.RdYlBu_11.scale(0, 1)\n",
    "\n",
    "def add_lines(point_a, point_b, size, alpha, id, speed, map) -> None:\n",
    "\n",
    "    color = linear(1-alpha)\n",
    "\n",
    "    line = folium.PolyLine(\n",
    "        [point_a, point_b], \n",
    "        color=color, \n",
    "        weight=2.5, \n",
    "        opacity=1, \n",
    "        tooltip=f\"{id}: :{size}: {alpha}: {color}: {speed}\",\n",
    "        line_cap=\"butt\"\n",
    "        )\n",
    "\n",
    "    line.add_to(map)\n",
    "\n",
    "\n",
    "center_lat = (traffic_data[\"POINT_1_LAT\"].mean() +\n",
    "              traffic_data[\"POINT_2_LAT\"].mean())/2\n",
    "center_lng = (traffic_data[\"POINT_1_LNG\"].mean() +\n",
    "              traffic_data[\"POINT_2_LNG\"].mean())/2\n",
    "\n",
    "\n",
    "dv_sample = traffic_data[traffic_data[\"timestamp\"]=='2014-09-04T05:30:00']\n",
    "\n",
    "lines = [[[dv_sample[\"POINT_1_LAT\"].iloc[_], dv_sample[\"POINT_1_LNG\"].iloc[_]],\n",
    "        [dv_sample[\"POINT_2_LAT\"].iloc[_],\n",
    "            dv_sample[\"POINT_2_LNG\"].iloc[_]],\n",
    "        dv_sample[\"vehicle_count\"].iloc[_],\n",
    "        dv_sample[\"vehicle_count\"].iloc[_]/dv_sample[\"vehicle_count\"].max(),\n",
    "        dv_sample[\"extID\"].iloc[_],\n",
    "        dv_sample[\"NDT_IN_KMH\"].iloc[_]\n",
    "        ]\n",
    "        for _ in range(dv_sample.shape[0])]\n",
    "\n",
    "\n",
    "m = folium.Map(location=[center_lat, center_lng], zoom_start=12)\n",
    "\n",
    "\n",
    "for line in lines:\n",
    "    add_lines(line[0], line[1], line[2], line[3], line[4], line[5], m)\n",
    "\n",
    "m"
   ]
  },
  {
   "cell_type": "code",
   "execution_count": null,
   "metadata": {},
   "outputs": [],
   "source": [
    "linear.to_step(6)"
   ]
  }
 ],
 "metadata": {
  "kernelspec": {
   "display_name": "Python 3",
   "language": "python",
   "name": "python3"
  },
  "language_info": {
   "codemirror_mode": {
    "name": "ipython",
    "version": 3
   },
   "file_extension": ".py",
   "mimetype": "text/x-python",
   "name": "python",
   "nbconvert_exporter": "python",
   "pygments_lexer": "ipython3",
   "version": "3.11.11"
  }
 },
 "nbformat": 4,
 "nbformat_minor": 2
}
